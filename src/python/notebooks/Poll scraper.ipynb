{
 "cells": [
  {
   "cell_type": "code",
   "execution_count": 72,
   "metadata": {
    "collapsed": false
   },
   "outputs": [],
   "source": [
    "from bs4 import BeautifulSoup\n",
    "import urllib\n",
    "import pandas as pd\n",
    "\n",
    "def loadDataTable(url, state_fips, state):\n",
    "    r = urllib.urlopen(url).read()\n",
    "    soup = BeautifulSoup(r)\n",
    "    datatable = soup.find(\"div\", {\"id\": \"polling-data-full\"})\n",
    "    df_tables = pd.read_html(str(datatable), flavor=\"bs4\", attrs = {'class': 'data large '}, header=0, skiprows=[1])\n",
    "    df_table = df_tables[0]\n",
    "    df_table['State_Fips'] = pd.Series([state_fips] * len(df_table))\n",
    "    df_table['State'] = pd.Series([state] * len(df_table))\n",
    "    return df_table\n",
    "\n",
    "\n"
   ]
  },
  {
   "cell_type": "code",
   "execution_count": 73,
   "metadata": {
    "collapsed": false
   },
   "outputs": [],
   "source": [
    "urls = pd.read_csv('poll_urls.csv')\n",
    "dataframes = []\n",
    "for index,row in urls.iterrows():\n",
    "    dataframes.append(loadDataTable(row.url,row.fips,row.state))\n",
    "    \n",
    "fulldata = pd.concat(dataframes)\n",
    "\n",
    "\n"
   ]
  },
  {
   "cell_type": "code",
   "execution_count": 71,
   "metadata": {
    "collapsed": false
   },
   "outputs": [],
   "source": [
    "fulldata.to_csv('fulldata.csv',sep='\\t', index=False, header=True)\n"
   ]
  },
  {
   "cell_type": "code",
   "execution_count": 27,
   "metadata": {
    "collapsed": false
   },
   "outputs": [
    {
     "data": {
      "text/plain": [
       "0    OH\n",
       "1    OH\n",
       "2    OH\n",
       "3    OH\n",
       "4    OH\n",
       "5    OH\n",
       "6    OH\n",
       "7    OH\n",
       "8    OH\n",
       "9    OH\n",
       "dtype: object"
      ]
     },
     "execution_count": 27,
     "metadata": {},
     "output_type": "execute_result"
    }
   ],
   "source": []
  },
  {
   "cell_type": "code",
   "execution_count": null,
   "metadata": {
    "collapsed": true
   },
   "outputs": [],
   "source": []
  }
 ],
 "metadata": {
  "kernelspec": {
   "display_name": "Python 2",
   "language": "python",
   "name": "python2"
  },
  "language_info": {
   "codemirror_mode": {
    "name": "ipython",
    "version": 2
   },
   "file_extension": ".py",
   "mimetype": "text/x-python",
   "name": "python",
   "nbconvert_exporter": "python",
   "pygments_lexer": "ipython2",
   "version": "2.7.11"
  }
 },
 "nbformat": 4,
 "nbformat_minor": 0
}
